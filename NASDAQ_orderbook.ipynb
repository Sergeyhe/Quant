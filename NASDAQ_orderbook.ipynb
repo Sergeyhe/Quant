{
 "cells": [
  {
   "cell_type": "code",
   "execution_count": 1,
   "metadata": {},
   "outputs": [],
   "source": [
    "import warnings\n",
    "warnings.filterwarnings('ignore')\n",
    "\n",
    "import numpy as np\n",
    "import requests\n",
    "import gzip\n",
    "import shutil\n",
    "from struct import unpack\n",
    "from collections import namedtuple, Counter, defaultdict\n",
    "from pathlib import Path\n",
    "from urllib.request import urlretrieve\n",
    "from urllib.parse import urljoin\n",
    "from datetime import timedelta\n",
    "from time import time\n",
    "import struct\n",
    "\n",
    "import pandas as pd\n",
    "\n",
    "import matplotlib.pyplot as plt\n",
    "from matplotlib.ticker import FuncFormatter\n",
    "import seaborn as sns"
   ]
  },
  {
   "cell_type": "code",
   "execution_count": 2,
   "metadata": {},
   "outputs": [],
   "source": [
    "sns.set_style('whitegrid')"
   ]
  },
  {
   "cell_type": "code",
   "execution_count": 3,
   "metadata": {},
   "outputs": [],
   "source": [
    "def format_time(t):\n",
    "    \"\"\"Return a formatted time string 'HH:MM:SS\n",
    "    based on a numeric time() value\"\"\"\n",
    "    m, s = divmod(t,60)\n",
    "    h, m = divmod(m,60)\n",
    "    return f'{int(h):02d}:{int(m):02d}:{s:05.2f}'"
   ]
  },
  {
   "cell_type": "markdown",
   "metadata": {},
   "source": [
    "#### Get NASDAQ data from FTP Server\n",
    "\n",
    "The Nasdaq offers [samples](https://emi.nasdaq.com/ITCH/Nasdaq%20ITCH/) of daily binary files for several months. "
   ]
  },
  {
   "cell_type": "markdown",
   "metadata": {},
   "source": [
    "| Name                    | Offset  | Length  | Value      | Notes                                                                                |\n",
    "|-------------------------|---------|---------|------------|--------------------------------------------------------------------------------------|\n",
    "| Message Type            | 0       | 1       | S          | System Event Message                                                                 |\n",
    "| Stock Locate            | 1       | 2       | Integer    | Always 0                                                                             |\n",
    "| Tracking Number         | 3       | 2       | Integer    | Nasdaq internal tracking number                                                      |\n",
    "| Timestamp               | 5       | 6       | Integer    | Nanoseconds since midnight                                                           |\n",
    "| Order Reference Number  | 11      | 8       | Integer    | The unique reference number assigned to the new order at the time of receipt.        |\n",
    "| Buy/Sell Indicator      | 19      | 1       | Alpha      | The type of order being added. B = Buy Order. S = Sell Order.                        |\n",
    "| Shares                  | 20      | 4       | Integer    | The total number of shares associated with the order being added to the book.        |\n",
    "| Stock                   | 24      | 8       | Alpha      | Stock symbol, right padded with spaces                                               |\n",
    "| Price                   | 32      | 4       | Price (4)  | The display price of the new order. Refer to Data Types for field processing notes.  |\n",
    "| Attribution             | 36      | 4       | Alpha      | Nasdaq Market participant identifier associated with the entered order               |"
   ]
  },
  {
   "cell_type": "markdown",
   "metadata": {},
   "source": [
    "#### Set Data Path\n",
    "\n",
    "We will store the download in a `data` subdirectory and convert the result to `hdf` format (discussed in the last section of chapter 2)."
   ]
  },
  {
   "cell_type": "code",
   "execution_count": 4,
   "metadata": {},
   "outputs": [],
   "source": [
    "data_path = Path('data')\n",
    "itch_store = str(data_path / 'itch.h5')\n",
    "order_book_store = data_path / 'order_book.h5'"
   ]
  },
  {
   "cell_type": "code",
   "execution_count": 5,
   "metadata": {},
   "outputs": [],
   "source": [
    "HTTPS_URL = 'https://emi.nasdaq.com/ITCH/Nasdaq%20ITCH/'\n",
    "SOURCE_FILE = '12302019.NASDAQ_ITCH50.gz'"
   ]
  },
  {
   "cell_type": "markdown",
   "metadata": {},
   "source": [
    "#### URL updates\n",
    "\n",
    "NASDAQ updates the files occasionally so that the SOURCE_FILE changes. If the above gives an error, navigate to the HTTPS_URL using your browser, and check for new files."
   ]
  },
  {
   "cell_type": "markdown",
   "metadata": {},
   "source": [
    "#### Download and Unzip"
   ]
  },
  {
   "cell_type": "code",
   "execution_count": 6,
   "metadata": {},
   "outputs": [],
   "source": [
    "def may_be_download(url, data_path):\n",
    "    \"\"\"Download & unzip ITCH data if not yet available\"\"\"\n",
    "    data_path = Path(data_path)\n",
    "    if not data_path.exists():\n",
    "        print('Creating directory')\n",
    "        data_path.mkdir(parents=True, exist_ok=True)\n",
    "    else: \n",
    "        print('Directory exists')\n",
    "\n",
    "    filename = data_path / url.split('/')[-1]        \n",
    "    if not filename.exists():\n",
    "        print('Downloading...', url)\n",
    "        # Using requests to download in chunks\n",
    "        with requests.get(url, stream=True) as r:\n",
    "            r.raise_for_status()\n",
    "            with open(filename, 'wb') as f:\n",
    "                for chunk in r.iter_content(chunk_size=8192):\n",
    "                    f.write(chunk)\n",
    "    else: \n",
    "        print('File exists')        \n",
    "\n",
    "    unzipped = data_path / (filename.stem + '.bin')\n",
    "    if not unzipped.exists():\n",
    "        print('Unzipping to', unzipped)\n",
    "        with gzip.open(filename, 'rb') as f_in:\n",
    "            with open(unzipped, 'wb') as f_out:\n",
    "                shutil.copyfileobj(f_in, f_out)\n",
    "    else: \n",
    "        print('File already unpacked')\n",
    "    return unzipped"
   ]
  },
  {
   "cell_type": "code",
   "execution_count": 7,
   "metadata": {},
   "outputs": [
    {
     "name": "stdout",
     "output_type": "stream",
     "text": [
      "Directory exists\n",
      "File exists\n",
      "File already unpacked\n"
     ]
    }
   ],
   "source": [
    "file_name = may_be_download(urljoin(HTTPS_URL, SOURCE_FILE),data_path)\n",
    "date = file_name.name.split('.')[0]"
   ]
  },
  {
   "cell_type": "markdown",
   "metadata": {},
   "source": [
    "#### ITCH Format Settings\n",
    "\n",
    "##### The `struct` module for binary data\n",
    "\n",
    "The ITCH tick data comes in binary format. Python provides the `struct` module (see [docs](https://docs.python.org/3/library/struct.html)) to parse binary data using format strings that identify the message elements by indicating length and type of the various components of the byte string as laid out in the specification.\n",
    "\n",
    "From the docs:\n",
    "\n",
    "> This module performs conversions between Python values and C structs represented as Python bytes objects. This can be used in handling binary data stored in files or from network connections, among other sources. It uses Format Strings as compact descriptions of the layout of the C structs and the intended conversion to/from Python values."
   ]
  },
  {
   "cell_type": "markdown",
   "metadata": {},
   "source": [
    "#### Define Format Strings"
   ]
  },
  {
   "cell_type": "code",
   "execution_count": 8,
   "metadata": {},
   "outputs": [],
   "source": [
    "event_codes = {\n",
    "    'O': 'Start of Messages',\n",
    "    'S': 'Start of System Hours',\n",
    "    'Q': 'Start of Market Hours',\n",
    "    'M': 'End of Market Hours',\n",
    "    'E': 'End of System Hours',\n",
    "    'C': 'End of Messages'}"
   ]
  },
  {
   "cell_type": "code",
   "execution_count": 9,
   "metadata": {},
   "outputs": [],
   "source": [
    "encoding = {'primary_market_maker': {'Y': 1, 'N': 0},\n",
    "            'printable'           : {'Y': 1, 'N': 0},\n",
    "            'buy_sell_indicator'  : {'B': 1, 'S': -1},\n",
    "            'cross_type'          : {'O': 0, 'C': 1, 'H': 2},\n",
    "            'imbalance_direction' : {'B': 0, 'S': 1, 'N': 0, 'O': -1}}"
   ]
  },
  {
   "cell_type": "code",
   "execution_count": 10,
   "metadata": {},
   "outputs": [],
   "source": [
    "formats = {\n",
    "    ('integer', 2): 'H',  # int of length 2 => format string 'H'\n",
    "    ('integer', 4): 'I',\n",
    "    ('integer', 6): '6s',  # int of length 6 => parse as string, convert later\n",
    "    ('integer', 8): 'Q',\n",
    "    ('alpha',   1): 's',\n",
    "    ('alpha',   2): '2s',\n",
    "    ('alpha',   4): '4s',\n",
    "    ('alpha',   8): '8s',\n",
    "    ('price_4', 4): 'I',\n",
    "    ('price_8', 8): 'Q',\n",
    "}"
   ]
  },
  {
   "cell_type": "markdown",
   "metadata": {},
   "source": [
    "#### Create message specs for binary data parser\n",
    "The ITCH parser relies on message specifications that we create in the following steps."
   ]
  },
  {
   "cell_type": "markdown",
   "metadata": {},
   "source": [
    "##### Load Message Types\n",
    "The file `message_types.xlxs` contains the message type specs as laid out in the [documentation](https://www.nasdaqtrader.com/content/technicalsupport/specifications/dataproducts/NQTVITCHSpecification.pdf)"
   ]
  },
  {
   "cell_type": "code",
   "execution_count": 11,
   "metadata": {},
   "outputs": [],
   "source": [
    "message_data = (pd.read_excel('message_types.xlsx',\n",
    "                            sheet_name='messages')\n",
    "                .sort_values('id')\n",
    "                .drop('id',axis = 1))"
   ]
  },
  {
   "cell_type": "code",
   "execution_count": 12,
   "metadata": {},
   "outputs": [
    {
     "data": {
      "text/html": [
       "<div>\n",
       "<style scoped>\n",
       "    .dataframe tbody tr th:only-of-type {\n",
       "        vertical-align: middle;\n",
       "    }\n",
       "\n",
       "    .dataframe tbody tr th {\n",
       "        vertical-align: top;\n",
       "    }\n",
       "\n",
       "    .dataframe thead th {\n",
       "        text-align: right;\n",
       "    }\n",
       "</style>\n",
       "<table border=\"1\" class=\"dataframe\">\n",
       "  <thead>\n",
       "    <tr style=\"text-align: right;\">\n",
       "      <th></th>\n",
       "      <th>Name</th>\n",
       "      <th>Offset</th>\n",
       "      <th>Length</th>\n",
       "      <th>Value</th>\n",
       "      <th>Notes</th>\n",
       "    </tr>\n",
       "  </thead>\n",
       "  <tbody>\n",
       "    <tr>\n",
       "      <th>0</th>\n",
       "      <td>Message Type</td>\n",
       "      <td>0</td>\n",
       "      <td>1</td>\n",
       "      <td>S</td>\n",
       "      <td>System Event Message</td>\n",
       "    </tr>\n",
       "    <tr>\n",
       "      <th>1</th>\n",
       "      <td>Stock Locate</td>\n",
       "      <td>1</td>\n",
       "      <td>2</td>\n",
       "      <td>Integer</td>\n",
       "      <td>Always 0</td>\n",
       "    </tr>\n",
       "    <tr>\n",
       "      <th>2</th>\n",
       "      <td>Tracking Number</td>\n",
       "      <td>3</td>\n",
       "      <td>2</td>\n",
       "      <td>Integer</td>\n",
       "      <td>Nasdaq internal tracking number</td>\n",
       "    </tr>\n",
       "    <tr>\n",
       "      <th>3</th>\n",
       "      <td>Timestamp</td>\n",
       "      <td>5</td>\n",
       "      <td>6</td>\n",
       "      <td>Integer</td>\n",
       "      <td>Nanoseconds since midnight</td>\n",
       "    </tr>\n",
       "    <tr>\n",
       "      <th>4</th>\n",
       "      <td>Event Code</td>\n",
       "      <td>11</td>\n",
       "      <td>1</td>\n",
       "      <td>Alpha</td>\n",
       "      <td>See System Event Codes below</td>\n",
       "    </tr>\n",
       "  </tbody>\n",
       "</table>\n",
       "</div>"
      ],
      "text/plain": [
       "              Name   Offset   Length     Value   \\\n",
       "0     Message Type         0        1         S   \n",
       "1     Stock Locate         1        2  Integer    \n",
       "2  Tracking Number         3        2  Integer    \n",
       "3        Timestamp         5        6  Integer    \n",
       "4       Event Code        11        1    Alpha    \n",
       "\n",
       "                             Notes   \n",
       "0             System Event Message   \n",
       "1                         Always 0   \n",
       "2  Nasdaq internal tracking number   \n",
       "3       Nanoseconds since midnight   \n",
       "4     See System Event Codes below   "
      ]
     },
     "execution_count": 12,
     "metadata": {},
     "output_type": "execute_result"
    }
   ],
   "source": [
    "message_data.head()"
   ]
  },
  {
   "cell_type": "markdown",
   "metadata": {},
   "source": [
    "##### Basic Cleaning\n",
    "\n",
    "The function `clean_message_types()` just runs a few basic string cleaning steps."
   ]
  },
  {
   "cell_type": "code",
   "execution_count": 13,
   "metadata": {},
   "outputs": [],
   "source": [
    "def clean_message_types(df):\n",
    "    df.columns = [c.lower().strip() for c in df.columns]\n",
    "    df.value = df.value.str.strip()\n",
    "    df.name = (df.name\n",
    "               .str.strip() #remove whitespace\n",
    "               .str.lower()\n",
    "               .str.replace(' ','-')\n",
    "               .str.replace('-','_')\n",
    "               .str.replace('/','_'))\n",
    "    df.notes = df.notes.str.strip()\n",
    "    df['message_type'] = df.loc[df.name == 'message_type', 'value']\n",
    "    return df"
   ]
  },
  {
   "cell_type": "code",
   "execution_count": 14,
   "metadata": {},
   "outputs": [],
   "source": [
    "message_types = clean_message_types(message_data)"
   ]
  },
  {
   "cell_type": "markdown",
   "metadata": {},
   "source": [
    "##### Get Message Labels\n",
    "We extract message type codes and names so we can later make the results more readable.\n"
   ]
  },
  {
   "cell_type": "code",
   "execution_count": 15,
   "metadata": {},
   "outputs": [
    {
     "data": {
      "text/html": [
       "<div>\n",
       "<style scoped>\n",
       "    .dataframe tbody tr th:only-of-type {\n",
       "        vertical-align: middle;\n",
       "    }\n",
       "\n",
       "    .dataframe tbody tr th {\n",
       "        vertical-align: top;\n",
       "    }\n",
       "\n",
       "    .dataframe thead th {\n",
       "        text-align: right;\n",
       "    }\n",
       "</style>\n",
       "<table border=\"1\" class=\"dataframe\">\n",
       "  <thead>\n",
       "    <tr style=\"text-align: right;\">\n",
       "      <th></th>\n",
       "      <th>message_type</th>\n",
       "      <th>name</th>\n",
       "    </tr>\n",
       "  </thead>\n",
       "  <tbody>\n",
       "    <tr>\n",
       "      <th>0</th>\n",
       "      <td>S</td>\n",
       "      <td>system_event</td>\n",
       "    </tr>\n",
       "    <tr>\n",
       "      <th>5</th>\n",
       "      <td>R</td>\n",
       "      <td>stock_directory</td>\n",
       "    </tr>\n",
       "    <tr>\n",
       "      <th>23</th>\n",
       "      <td>H</td>\n",
       "      <td>stock_trading_action</td>\n",
       "    </tr>\n",
       "    <tr>\n",
       "      <th>31</th>\n",
       "      <td>Y</td>\n",
       "      <td>reg_sho_short_sale_price_test_restricted_indic...</td>\n",
       "    </tr>\n",
       "    <tr>\n",
       "      <th>37</th>\n",
       "      <td>L</td>\n",
       "      <td>market_participant_position</td>\n",
       "    </tr>\n",
       "  </tbody>\n",
       "</table>\n",
       "</div>"
      ],
      "text/plain": [
       "   message_type                                               name\n",
       "0             S                                       system_event\n",
       "5             R                                    stock_directory\n",
       "23            H                               stock_trading_action\n",
       "31            Y  reg_sho_short_sale_price_test_restricted_indic...\n",
       "37            L                        market_participant_position"
      ]
     },
     "execution_count": 15,
     "metadata": {},
     "output_type": "execute_result"
    }
   ],
   "source": [
    "message_labels = (message_types.loc[:,['message_type','notes']]\n",
    "                 .dropna()\n",
    "                 .rename(columns={'notes':'name'}))\n",
    "message_labels.name = (message_labels.name\n",
    "                       .str.lower()\n",
    "                       .str.replace('message', '')\n",
    "                       .str.replace('.', '')\n",
    "                       .str.strip().str.replace(' ', '_'))\n",
    "# message_labels.to_csv('message_labels.csv', index=False)\n",
    "message_labels.head()"
   ]
  },
  {
   "cell_type": "markdown",
   "metadata": {},
   "source": [
    "#### Finalize specification details\n",
    "Each message consists of several fields that are defined by offset, length and type of value. The `struct` module will use this format information to parse the binary source data."
   ]
  },
  {
   "cell_type": "code",
   "execution_count": 16,
   "metadata": {},
   "outputs": [
    {
     "name": "stdout",
     "output_type": "stream",
     "text": [
      "<class 'pandas.core.frame.DataFrame'>\n",
      "Index: 152 entries, 1 to 172\n",
      "Data columns (total 6 columns):\n",
      " #   Column        Non-Null Count  Dtype \n",
      "---  ------        --------------  ----- \n",
      " 0   name          152 non-null    object\n",
      " 1   offset        152 non-null    int64 \n",
      " 2   length        152 non-null    int64 \n",
      " 3   value         152 non-null    object\n",
      " 4   notes         152 non-null    object\n",
      " 5   message_type  152 non-null    object\n",
      "dtypes: int64(2), object(4)\n",
      "memory usage: 8.3+ KB\n"
     ]
    }
   ],
   "source": [
    "message_types.message_type = message_types.message_type.ffill()\n",
    "message_types = message_types[message_types.name != 'message_type']\n",
    "message_types.value = (message_types.value\n",
    "                       .str.lower()\n",
    "                       .str.replace(' ', '_')\n",
    "                       .str.replace('(', '')\n",
    "                       .str.replace(')', ''))\n",
    "message_types.info()"
   ]
  },
  {
   "cell_type": "code",
   "execution_count": 17,
   "metadata": {},
   "outputs": [
    {
     "data": {
      "text/html": [
       "<div>\n",
       "<style scoped>\n",
       "    .dataframe tbody tr th:only-of-type {\n",
       "        vertical-align: middle;\n",
       "    }\n",
       "\n",
       "    .dataframe tbody tr th {\n",
       "        vertical-align: top;\n",
       "    }\n",
       "\n",
       "    .dataframe thead th {\n",
       "        text-align: right;\n",
       "    }\n",
       "</style>\n",
       "<table border=\"1\" class=\"dataframe\">\n",
       "  <thead>\n",
       "    <tr style=\"text-align: right;\">\n",
       "      <th></th>\n",
       "      <th>name</th>\n",
       "      <th>offset</th>\n",
       "      <th>length</th>\n",
       "      <th>value</th>\n",
       "      <th>notes</th>\n",
       "      <th>message_type</th>\n",
       "    </tr>\n",
       "  </thead>\n",
       "  <tbody>\n",
       "    <tr>\n",
       "      <th>1</th>\n",
       "      <td>stock_locate</td>\n",
       "      <td>1</td>\n",
       "      <td>2</td>\n",
       "      <td>integer</td>\n",
       "      <td>Always 0</td>\n",
       "      <td>S</td>\n",
       "    </tr>\n",
       "    <tr>\n",
       "      <th>2</th>\n",
       "      <td>tracking_number</td>\n",
       "      <td>3</td>\n",
       "      <td>2</td>\n",
       "      <td>integer</td>\n",
       "      <td>Nasdaq internal tracking number</td>\n",
       "      <td>S</td>\n",
       "    </tr>\n",
       "    <tr>\n",
       "      <th>3</th>\n",
       "      <td>timestamp</td>\n",
       "      <td>5</td>\n",
       "      <td>6</td>\n",
       "      <td>integer</td>\n",
       "      <td>Nanoseconds since midnight</td>\n",
       "      <td>S</td>\n",
       "    </tr>\n",
       "    <tr>\n",
       "      <th>4</th>\n",
       "      <td>event_code</td>\n",
       "      <td>11</td>\n",
       "      <td>1</td>\n",
       "      <td>alpha</td>\n",
       "      <td>See System Event Codes below</td>\n",
       "      <td>S</td>\n",
       "    </tr>\n",
       "    <tr>\n",
       "      <th>6</th>\n",
       "      <td>stock_locate</td>\n",
       "      <td>1</td>\n",
       "      <td>2</td>\n",
       "      <td>integer</td>\n",
       "      <td>Locate Code uniquely assigned to the security ...</td>\n",
       "      <td>R</td>\n",
       "    </tr>\n",
       "  </tbody>\n",
       "</table>\n",
       "</div>"
      ],
      "text/plain": [
       "              name  offset  length    value  \\\n",
       "1     stock_locate       1       2  integer   \n",
       "2  tracking_number       3       2  integer   \n",
       "3        timestamp       5       6  integer   \n",
       "4       event_code      11       1    alpha   \n",
       "6     stock_locate       1       2  integer   \n",
       "\n",
       "                                               notes message_type  \n",
       "1                                           Always 0            S  \n",
       "2                    Nasdaq internal tracking number            S  \n",
       "3                         Nanoseconds since midnight            S  \n",
       "4                       See System Event Codes below            S  \n",
       "6  Locate Code uniquely assigned to the security ...            R  "
      ]
     },
     "execution_count": 17,
     "metadata": {},
     "output_type": "execute_result"
    }
   ],
   "source": [
    "message_types.head()"
   ]
  },
  {
   "cell_type": "code",
   "execution_count": 18,
   "metadata": {},
   "outputs": [],
   "source": [
    "message_types.to_csv('message_types.csv', index=False)"
   ]
  },
  {
   "cell_type": "code",
   "execution_count": 19,
   "metadata": {},
   "outputs": [],
   "source": [
    "message_types = pd.read_csv('message_types.csv')"
   ]
  },
  {
   "cell_type": "markdown",
   "metadata": {},
   "source": [
    "The parser translates the message specs into format strings and `namedtuples` that capture the message content. First, we create `(type, length)` formatting tuples from ITCH specs:"
   ]
  },
  {
   "cell_type": "code",
   "execution_count": 20,
   "metadata": {},
   "outputs": [],
   "source": [
    "message_types.loc[:, 'formats'] = (message_types[['value', 'length']]\n",
    "                            .apply(tuple, axis=1).map(formats))"
   ]
  },
  {
   "cell_type": "markdown",
   "metadata": {},
   "source": [
    "Then, we extract formatting details for alphanumerical fields"
   ]
  },
  {
   "cell_type": "code",
   "execution_count": 21,
   "metadata": {},
   "outputs": [],
   "source": [
    "alpha_fields = message_types[message_types.value == 'alpha'].set_index('name')\n",
    "alpha_msgs = alpha_fields.groupby('message_type')\n",
    "alpha_formats = {k: v.to_dict() for k, v in alpha_msgs.formats}\n",
    "alpha_length = {k: v.add(5).to_dict() for k, v in alpha_msgs.length}"
   ]
  },
  {
   "cell_type": "markdown",
   "metadata": {},
   "source": [
    "We generate message classes as named tuples and format strings"
   ]
  },
  {
   "cell_type": "code",
   "execution_count": 22,
   "metadata": {},
   "outputs": [],
   "source": [
    "message_fields, fstring = {}, {}\n",
    "for t, message in message_types.groupby('message_type'):\n",
    "    message_fields[t] = namedtuple(typename=t, field_names=message.name.tolist())\n",
    "    fstring[t] = '>' + ''.join(message.formats.tolist())"
   ]
  },
  {
   "cell_type": "code",
   "execution_count": 23,
   "metadata": {},
   "outputs": [
    {
     "name": "stdout",
     "output_type": "stream",
     "text": [
      "<class 'pandas.core.frame.DataFrame'>\n",
      "Index: 45 entries, event_code to price_variation_indicator\n",
      "Data columns (total 6 columns):\n",
      " #   Column        Non-Null Count  Dtype \n",
      "---  ------        --------------  ----- \n",
      " 0   offset        45 non-null     int64 \n",
      " 1   length        45 non-null     int64 \n",
      " 2   value         45 non-null     object\n",
      " 3   notes         45 non-null     object\n",
      " 4   message_type  45 non-null     object\n",
      " 5   formats       45 non-null     object\n",
      "dtypes: int64(2), object(4)\n",
      "memory usage: 2.5+ KB\n"
     ]
    }
   ],
   "source": [
    "alpha_fields.info()"
   ]
  },
  {
   "cell_type": "code",
   "execution_count": 24,
   "metadata": {},
   "outputs": [
    {
     "data": {
      "text/html": [
       "<div>\n",
       "<style scoped>\n",
       "    .dataframe tbody tr th:only-of-type {\n",
       "        vertical-align: middle;\n",
       "    }\n",
       "\n",
       "    .dataframe tbody tr th {\n",
       "        vertical-align: top;\n",
       "    }\n",
       "\n",
       "    .dataframe thead th {\n",
       "        text-align: right;\n",
       "    }\n",
       "</style>\n",
       "<table border=\"1\" class=\"dataframe\">\n",
       "  <thead>\n",
       "    <tr style=\"text-align: right;\">\n",
       "      <th></th>\n",
       "      <th>offset</th>\n",
       "      <th>length</th>\n",
       "      <th>value</th>\n",
       "      <th>notes</th>\n",
       "      <th>message_type</th>\n",
       "      <th>formats</th>\n",
       "    </tr>\n",
       "    <tr>\n",
       "      <th>name</th>\n",
       "      <th></th>\n",
       "      <th></th>\n",
       "      <th></th>\n",
       "      <th></th>\n",
       "      <th></th>\n",
       "      <th></th>\n",
       "    </tr>\n",
       "  </thead>\n",
       "  <tbody>\n",
       "    <tr>\n",
       "      <th>event_code</th>\n",
       "      <td>11</td>\n",
       "      <td>1</td>\n",
       "      <td>alpha</td>\n",
       "      <td>See System Event Codes below</td>\n",
       "      <td>S</td>\n",
       "      <td>s</td>\n",
       "    </tr>\n",
       "    <tr>\n",
       "      <th>stock</th>\n",
       "      <td>11</td>\n",
       "      <td>8</td>\n",
       "      <td>alpha</td>\n",
       "      <td>Denotes the security symbol for the issue in t...</td>\n",
       "      <td>R</td>\n",
       "      <td>8s</td>\n",
       "    </tr>\n",
       "    <tr>\n",
       "      <th>market_category</th>\n",
       "      <td>19</td>\n",
       "      <td>1</td>\n",
       "      <td>alpha</td>\n",
       "      <td>Indicates Listing market or listing market tie...</td>\n",
       "      <td>R</td>\n",
       "      <td>s</td>\n",
       "    </tr>\n",
       "    <tr>\n",
       "      <th>financial_status_indicator</th>\n",
       "      <td>20</td>\n",
       "      <td>1</td>\n",
       "      <td>alpha</td>\n",
       "      <td>For Nasdaq listed issues, this field indicates...</td>\n",
       "      <td>R</td>\n",
       "      <td>s</td>\n",
       "    </tr>\n",
       "    <tr>\n",
       "      <th>round_lots_only</th>\n",
       "      <td>25</td>\n",
       "      <td>1</td>\n",
       "      <td>alpha</td>\n",
       "      <td>Indicates if Nasdaq system limits order entry ...</td>\n",
       "      <td>R</td>\n",
       "      <td>s</td>\n",
       "    </tr>\n",
       "  </tbody>\n",
       "</table>\n",
       "</div>"
      ],
      "text/plain": [
       "                            offset  length  value  \\\n",
       "name                                                \n",
       "event_code                      11       1  alpha   \n",
       "stock                           11       8  alpha   \n",
       "market_category                 19       1  alpha   \n",
       "financial_status_indicator      20       1  alpha   \n",
       "round_lots_only                 25       1  alpha   \n",
       "\n",
       "                                                                        notes  \\\n",
       "name                                                                            \n",
       "event_code                                       See System Event Codes below   \n",
       "stock                       Denotes the security symbol for the issue in t...   \n",
       "market_category             Indicates Listing market or listing market tie...   \n",
       "financial_status_indicator  For Nasdaq listed issues, this field indicates...   \n",
       "round_lots_only             Indicates if Nasdaq system limits order entry ...   \n",
       "\n",
       "                           message_type formats  \n",
       "name                                             \n",
       "event_code                            S       s  \n",
       "stock                                 R      8s  \n",
       "market_category                       R       s  \n",
       "financial_status_indicator            R       s  \n",
       "round_lots_only                       R       s  "
      ]
     },
     "execution_count": 24,
     "metadata": {},
     "output_type": "execute_result"
    }
   ],
   "source": [
    "alpha_fields.head()"
   ]
  },
  {
   "cell_type": "markdown",
   "metadata": {},
   "source": [
    "Fields of `alpha` type (alphanumeric) require post-processing as defined in the `format_alpha` function:"
   ]
  },
  {
   "cell_type": "code",
   "execution_count": 25,
   "metadata": {},
   "outputs": [],
   "source": [
    "def format_alpha(mtype, data):\n",
    "    \"\"\"Process byte strings of type alpha\"\"\"\n",
    "\n",
    "    for col in alpha_formats.get(mtype).keys():\n",
    "        if mtype != 'R' and col == 'stock':\n",
    "            data = data.drop(col, axis=1)\n",
    "            continue\n",
    "        data.loc[:, col] = data.loc[:, col].str.decode(\"utf-8\").str.strip()\n",
    "        if encoding.get(col):\n",
    "            data.loc[:, col] = data.loc[:, col].map(encoding.get(col))\n",
    "    return data"
   ]
  },
  {
   "cell_type": "markdown",
   "metadata": {},
   "source": [
    "### Process Binary Message Data\n",
    "The binary file for a single day contains over 350,000,000 messages worth over 12 GB."
   ]
  },
  {
   "cell_type": "code",
   "execution_count": 26,
   "metadata": {},
   "outputs": [],
   "source": [
    "def store_messages(m):\n",
    "    \"\"\"Handle occasional storing of all messages\"\"\"\n",
    "    with pd.HDFStore(itch_store) as store:\n",
    "        for mtype, data in m.items():\n",
    "            # convert to DataFrame\n",
    "            data = pd.DataFrame(data)\n",
    "\n",
    "            # parse timestamp info\n",
    "            data['timestamp'] = data['timestamp'].apply(int.from_bytes, byteorder='big')\n",
    "            data['timestamp'] = pd.to_timedelta(data['timestamp'])\n",
    "\n",
    "            # apply alpha formatting\n",
    "            if mtype in alpha_formats.keys():\n",
    "                data = format_alpha(mtype, data)\n",
    "\n",
    "            s = alpha_length.get(mtype)\n",
    "            if s:\n",
    "                s = {c: s.get(c, None) for c in data.columns}\n",
    "            dc = ['stock_locate']\n",
    "            if mtype == 'R':\n",
    "                dc.append('stock')\n",
    "\n",
    "            # Convert primary_market_maker to string if it exists in DataFrame\n",
    "            if 'primary_market_maker' in data.columns:\n",
    "                data['primary_market_maker'] = data['primary_market_maker'].astype(str)\n",
    "\n",
    "            if 'buy_sell_indicator' in data.columns:\n",
    "                data['buy_sell_indicator'] = data['buy_sell_indicator'].astype(str)\n",
    "            \n",
    "            if 'imbalance_direction' in data.columns:\n",
    "                data['imbalance_direction'] = data['imbalance_direction'].astype(str)\n",
    "\n",
    "            if 'cross_type' in data.columns:\n",
    "                data['cross_type'] = data['cross_type'].astype(str)\n",
    "            \n",
    "            if 'printable' in data.columns:\n",
    "                data['printable'] = data['printable'].astype(str)\n",
    "\n",
    "\n",
    "            try:\n",
    "                store.append(mtype,\n",
    "                             data,\n",
    "                             format='t',\n",
    "                             min_itemsize=s,\n",
    "                             data_columns=dc)\n",
    "            except Exception as e:\n",
    "                print(e)\n",
    "                print(mtype)\n",
    "                print(data.info())\n",
    "                print(pd.Series(list(m.keys())).value_counts())\n",
    "                data.to_csv('data.csv', index=False)\n",
    "                return 1\n",
    "    return 0\n"
   ]
  },
  {
   "cell_type": "code",
   "execution_count": 27,
   "metadata": {},
   "outputs": [],
   "source": [
    "messages = defaultdict(list)\n",
    "message_count = 0\n",
    "message_type_counter = Counter()"
   ]
  },
  {
   "cell_type": "markdown",
   "metadata": {},
   "source": [
    "The script appends the parsed result iteratively to a file in the fast HDF5 format using the `store_messages()` function we just defined to avoid memory constraints (see last section in chapter 2 for more on this format).\n",
    "\n",
    "The following code processes the binary file and produces the parsed orders stored by message type:"
   ]
  },
  {
   "cell_type": "code",
   "execution_count": 28,
   "metadata": {},
   "outputs": [
    {
     "name": "stdout",
     "output_type": "stream",
     "text": [
      "\n",
      " Start of Messages\n",
      "\t03:04:32.06\t           0\n",
      "\n",
      " Start of System Hours\n",
      "\t04:00:00.00\t     241,732\n",
      "\n",
      " Start of Market Hours\n",
      "\t09:30:00.00\t   6,696,721\n",
      "\t09:46:11.09\t  25,000,000\t00:00:35.82\n",
      "\t10:10:40.77\t  50,000,000\t00:03:01.54\n",
      "\t10:35:00.57\t  75,000,000\t00:05:22.70\n",
      "\t11:07:01.95\t 100,000,000\t00:07:53.74\n",
      "\t11:43:48.84\t 125,000,000\t00:10:28.18\n",
      "\t12:29:57.42\t 150,000,000\t00:12:40.35\n",
      "\t13:22:28.23\t 175,000,000\t00:15:00.58\n",
      "\t14:17:00.37\t 200,000,000\t00:17:44.71\n",
      "\t15:08:51.27\t 225,000,000\t00:20:29.11\n",
      "\t15:50:07.10\t 250,000,000\t00:23:02.49\n",
      "\n",
      " End of Market Hours\n",
      "\t16:00:00.00\t 265,920,781\n",
      "\n",
      " End of System Hours\n",
      "\t20:00:00.00\t 268,693,578\n",
      "\n",
      " End of Messages\n",
      "\t20:05:00.00\t 268,744,779\n",
      "Duration: 00:26:31.63\n"
     ]
    }
   ],
   "source": [
    "start = time()\n",
    "with file_name.open('rb') as data:\n",
    "    while True:\n",
    "\n",
    "        # determine message size in bytes\n",
    "        message_size = int.from_bytes(data.read(2), byteorder='big', signed=False)\n",
    "        \n",
    "        # get message type by reading first byte\n",
    "        message_type = data.read(1).decode('ascii')        \n",
    "        message_type_counter.update([message_type])\n",
    "\n",
    "        # read & store message\n",
    "        try:\n",
    "            record = data.read(message_size - 1)\n",
    "            message = message_fields[message_type]._make(unpack(fstring[message_type], record))\n",
    "            messages[message_type].append(message)\n",
    "        except Exception as e:\n",
    "            print(e)\n",
    "            print(message_type)\n",
    "            print(record)\n",
    "            print(fstring[message_type])\n",
    "        \n",
    "        # deal with system events\n",
    "        if message_type == 'S':\n",
    "            seconds = int.from_bytes(message.timestamp, byteorder='big') * 1e-9\n",
    "            print('\\n', event_codes.get(message.event_code.decode('ascii'), 'Error'))\n",
    "            print(f'\\t{format_time(seconds)}\\t{message_count:12,.0f}')\n",
    "            if message.event_code.decode('ascii') == 'C':\n",
    "                store_messages(messages)\n",
    "                break\n",
    "        message_count += 1\n",
    "\n",
    "        if message_count % 2.5e7 == 0:\n",
    "            seconds = int.from_bytes(message.timestamp, byteorder='big') * 1e-9\n",
    "            d = format_time(time() - start)\n",
    "            print(f'\\t{format_time(seconds)}\\t{message_count:12,.0f}\\t{d}')\n",
    "            res = store_messages(messages)\n",
    "            if res == 1:\n",
    "                print(pd.Series(dict(message_type_counter)).sort_values())\n",
    "                break\n",
    "            messages.clear()\n",
    "\n",
    "print('Duration:', format_time(time() - start))"
   ]
  },
  {
   "cell_type": "markdown",
   "metadata": {},
   "source": [
    "### Summarize Trading Day"
   ]
  },
  {
   "cell_type": "markdown",
   "metadata": {},
   "source": [
    "### Trading Message Frequency"
   ]
  },
  {
   "cell_type": "code",
   "execution_count": 29,
   "metadata": {},
   "outputs": [
    {
     "data": {
      "text/plain": [
       "Index(['A', 'D', 'U', 'E', 'I', 'X', 'F', 'P', 'L', 'C', 'Q', 'Y', 'H', 'R',\n",
       "       'J', 'S', 'K', 'V'],\n",
       "      dtype='object')"
      ]
     },
     "execution_count": 29,
     "metadata": {},
     "output_type": "execute_result"
    }
   ],
   "source": [
    "counter = pd.Series(message_type_counter).to_frame('# Trades')\n",
    "counter['Message Type'] = counter.index.map(message_labels.set_index('message_type').name.to_dict())\n",
    "counter = counter[['Message Type', '# Trades']].sort_values('# Trades', ascending=False)\n",
    "counter.index"
   ]
  },
  {
   "cell_type": "code",
   "execution_count": 30,
   "metadata": {},
   "outputs": [],
   "source": [
    "with pd.HDFStore(itch_store) as store:\n",
    "     store.put('summary', counter)\n",
    "     "
   ]
  },
  {
   "cell_type": "code",
   "execution_count": 31,
   "metadata": {},
   "outputs": [
    {
     "name": "stdout",
     "output_type": "stream",
     "text": [
      "['/A', '/C', '/D', '/E', '/F', '/H', '/I', '/J', '/K', '/L', '/P', '/Q', '/R', '/S', '/U', '/V', '/X', '/Y', '/summary']\n"
     ]
    }
   ],
   "source": [
    "with pd.HDFStore(itch_store) as store:\n",
    "    print(store.keys())\n",
    "    "
   ]
  },
  {
   "cell_type": "code",
   "execution_count": 32,
   "metadata": {},
   "outputs": [
    {
     "data": {
      "text/plain": [
       "'\\nwith pd.HDFStore(itch_store) as store:\\n    # Loop through each row in the dataframe to store each message type separately\\n    for index, row in counter.iterrows():\\n        # Use the message type as the key for the HDFStore\\n        # Replace spaces with underscores and make lowercase for a clean key\\n        key = row[\\'Message Type\\'].replace(\" \", \"_\").lower()\\n        # Convert the single row to a dataframe and store it\\n        store.put(key, pd.DataFrame([row]))\\n'"
      ]
     },
     "execution_count": 32,
     "metadata": {},
     "output_type": "execute_result"
    }
   ],
   "source": [
    "'''\n",
    "with pd.HDFStore(itch_store) as store:\n",
    "    # Loop through each row in the dataframe to store each message type separately\n",
    "    for index, row in counter.iterrows():\n",
    "        # Use the message type as the key for the HDFStore\n",
    "        # Replace spaces with underscores and make lowercase for a clean key\n",
    "        key = row['Message Type'].replace(\" \", \"_\").lower()\n",
    "        # Convert the single row to a dataframe and store it\n",
    "        store.put(key, pd.DataFrame([row]))\n",
    "'''"
   ]
  },
  {
   "cell_type": "code",
   "execution_count": 33,
   "metadata": {},
   "outputs": [
    {
     "name": "stdout",
     "output_type": "stream",
     "text": [
      "['/A', '/C', '/D', '/E', '/F', '/H', '/I', '/J', '/K', '/L', '/P', '/Q', '/R', '/S', '/U', '/V', '/X', '/Y', '/summary']\n"
     ]
    }
   ],
   "source": [
    "with pd.HDFStore(itch_store) as store:\n",
    "    print(store.keys())"
   ]
  },
  {
   "cell_type": "markdown",
   "metadata": {},
   "source": [
    "### Top Equities by Traded Value"
   ]
  },
  {
   "cell_type": "code",
   "execution_count": 35,
   "metadata": {},
   "outputs": [
    {
     "name": "stdout",
     "output_type": "stream",
     "text": [
      "['/A', '/C', '/D', '/E', '/F', '/H', '/I', '/J', '/K', '/L', '/P', '/Q', '/R', '/S', '/U', '/V', '/X', '/Y', '/summary']\n"
     ]
    },
    {
     "data": {
      "image/png": "[encoded data removed]",
      "text/plain": [
       "<Figure size 1400x600 with 1 Axes>"
      ]
     },
     "metadata": {},
     "output_type": "display_data"
    }
   ],
   "source": [
    "with pd.HDFStore(itch_store) as store:\n",
    "    print(store.keys())\n",
    "    stocks = store['R'].loc[:, ['stock_locate', 'stock']]\n",
    "    # Use pd.concat instead of append\n",
    "    trades = pd.concat([store['P'], store['Q'].rename(columns={'cross_price': 'price'})], ignore_index=True, sort=False).merge(stocks, how='left')\n",
    "\n",
    "\n",
    "trades['value'] = trades.shares.mul(trades.price)\n",
    "trades['value_share'] = trades.value.div(trades.value.sum())\n",
    "\n",
    "trade_summary = trades.groupby('stock').value_share.sum().sort_values(ascending=False)\n",
    "trade_summary.iloc[:50].plot.bar(figsize=(14, 6), color='darkblue', title='Share of Traded Value')\n",
    "\n",
    "plt.gca().yaxis.set_major_formatter(FuncFormatter(lambda y, _: '{:.0%}'.format(y)))\n",
    "sns.despine()\n",
    "plt.tight_layout()"
   ]
  }
 ],
 "metadata": {
  "kernelspec": {
   "display_name": "Python 3",
   "language": "python",
   "name": "python3"
  },
  "language_info": {
   "codemirror_mode": {
    "name": "ipython",
    "version": 3
   },
   "file_extension": ".py",
   "mimetype": "text/x-python",
   "name": "python",
   "nbconvert_exporter": "python",
   "pygments_lexer": "ipython3",
   "version": "3.11.2"
  },
  "orig_nbformat": 4
 },
 "nbformat": 4,
 "nbformat_minor": 2
}
